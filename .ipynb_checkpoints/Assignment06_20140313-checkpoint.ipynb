{
 "cells": [
  {
   "cell_type": "code",
   "execution_count": 1,
   "metadata": {},
   "outputs": [
    {
     "data": {
      "image/png": "[encoded data removed]",
      "text/plain": [
       "<Figure size 432x288 with 1 Axes>"
      ]
     },
     "metadata": {
      "needs_background": "light"
     },
     "output_type": "display_data"
    }
   ],
   "source": [
    "import numpy as np\n",
    "import matplotlib.pyplot as plt\n",
    "\n",
    "data    = np.genfromtxt(\"data-nonlinear.txt\", delimiter=',')\n",
    "\n",
    "pointX  = data[:, 0]\n",
    "pointY  = data[:, 1]\n",
    "label   = data[:, 2]\n",
    "\n",
    "pointX0 = pointX[label == 0]\n",
    "pointY0 = pointY[label == 0]\n",
    "\n",
    "pointX1 = pointX[label == 1]\n",
    "pointY1 = pointY[label == 1]\n",
    "\n",
    "plt.figure()\n",
    "plt.scatter(pointX0, pointY0, c='b')\n",
    "plt.scatter(pointX1, pointY1, c='r')\n",
    "plt.tight_layout()\n",
    "\n",
    "plt.gca().set_aspect('equal', adjustable='box')\n",
    "plt.show()\n"
   ]
  },
  {
   "cell_type": "code",
   "execution_count": 35,
   "metadata": {},
   "outputs": [
    {
     "name": "stdout",
     "output_type": "stream",
     "text": [
      "(9, 118)\n",
      "(1000, 1000)\n"
     ]
    },
    {
     "data": {
      "image/png": "[encoded data removed]",
      "text/plain": [
       "<Figure size 432x288 with 1 Axes>"
      ]
     },
     "metadata": {
      "needs_background": "light"
     },
     "output_type": "display_data"
    }
   ],
   "source": [
    "import numpy as np\n",
    "import matplotlib.pyplot as plt\n",
    "\n",
    "def sigmoid(x):\n",
    "    s = 1. / (1. + np.exp(-x))\n",
    "    return s\n",
    "\n",
    "def hx(theta, x):\n",
    "    tx = sigmoid(np.dot(x,theta)).flatten()\n",
    "    return tx\n",
    "\n",
    "def minimize(x):\n",
    "    if np.isneginf(np.log(x)):\n",
    "        return 0.00001\n",
    "    return np.log(x)\n",
    "\n",
    "def costFunction(m, x, l, theta):\n",
    "    exc = np.vectorize(minimize)\n",
    "    \n",
    "    log1 = exc(hx(theta, x))\n",
    "    log2 = exc(1 - hx(theta, x))\n",
    "    \n",
    "    j = -(1 / m) * np.sum(l * log1 + (1 - l)*log2)\n",
    "    return j\n",
    "\n",
    "def gradientDescent(x, l, theta, m, alpha, iters):\n",
    "    for i in range(iters):\n",
    "        #j = costFunction(m,x,l,theta)\n",
    "        #theta = (1 / m) * np.dot(x.T, sigmoid(np.dot(x, theta)) - l)\n",
    "        theta = theta - ((alpha/m) * x.T @ (sigmoid(x @ theta)- l))\n",
    "        #thetas.append(theta)\n",
    "    return theta\n",
    "\n",
    "\n",
    "if __name__ == '__main__':\n",
    "    data    = np.genfromtxt(\"data-nonlinear.txt\", delimiter=',')\n",
    "    pointX  = data[:, 0]\n",
    "    pointY  = data[:, 1]\n",
    "    label   = data[:, 2]\n",
    "    \n",
    "    pointX0 = pointX[label == 0]\n",
    "    pointY0 = pointY[label == 0]\n",
    "    \n",
    "\n",
    "    pointX1 = pointX[label == 1]\n",
    "    pointY1 = pointY[label == 1]\n",
    "    \n",
    "    x = np.array(data[:, 0])\n",
    "    y = np.array(data[:, 1])\n",
    "    label = np.array(label)\n",
    "    \n",
    "    #guessed polynomials\n",
    "    x4 = x**4\n",
    "    x3 = x**3\n",
    "    x2 = x**2\n",
    "    y4 = y**4\n",
    "    y3 = y**3\n",
    "    y2 = y**2\n",
    "    ones = []\n",
    "    \n",
    "    for i in range(len(x)):\n",
    "        ones.append(1)\n",
    "    ones = np.array(ones)\n",
    "    m = len(x)\n",
    "    \n",
    "    X = np.array([ones, x, y, x2, y2, x3, y3, x4, y4]).T\n",
    "    theta = np.zeros((X.shape[1],1))\n",
    "    \n",
    "    a = 0.0001\n",
    "    iters = 100000\n",
    "    \n",
    "    theta = gradientDescent(X, label, theta, m, a, iters)\n",
    "\n",
    "    \n",
    "    \n",
    "    "
   ]
  },
  {
   "cell_type": "code",
   "execution_count": 29,
   "metadata": {},
   "outputs": [
    {
     "name": "stdout",
     "output_type": "stream",
     "text": [
      "1.9642437245146245\n",
      "0.06891604040837536\n",
      "0.23705850261037742\n",
      "0.4680601604639819\n",
      "0.5288454530980916\n",
      "0.09374577878073985\n",
      "0.19989421053003528\n",
      "0.2234081866677631\n",
      "0.274063380969442\n",
      "[[ 1.96424372  1.96424372  1.96424372 ... -1.96424372 -1.96424372\n",
      "  -1.96424372]\n",
      " [ 0.06891604  0.06891604  0.06891604 ... -0.06891604 -0.06891604\n",
      "  -0.06891604]\n",
      " [ 0.2370585   0.2370585   0.2370585  ... -0.2370585  -0.2370585\n",
      "  -0.2370585 ]\n",
      " ...\n",
      " [ 0.19989421  0.19989421  0.19989421 ... -0.19989421 -0.19989421\n",
      "  -0.19989421]\n",
      " [ 0.22340819  0.22340819  0.22340819 ... -0.22340819 -0.22340819\n",
      "  -0.22340819]\n",
      " [ 0.27406338  0.27406338  0.27406338 ... -0.27406338 -0.27406338\n",
      "  -0.27406338]]\n"
     ]
    }
   ],
   "source": [
    "markdown"
   ]
  },
  {
   "cell_type": "markdown",
   "metadata": {},
   "source": [
    "markdown"
   ]
  },
  {
   "cell_type": "code",
   "execution_count": null,
   "metadata": {},
   "outputs": [],
   "source": []
  }
 ],
 "metadata": {
  "kernelspec": {
   "display_name": "Python 3",
   "language": "python",
   "name": "python3"
  },
  "language_info": {
   "codemirror_mode": {
    "name": "ipython",
    "version": 3
   },
   "file_extension": ".py",
   "mimetype": "text/x-python",
   "name": "python",
   "nbconvert_exporter": "python",
   "pygments_lexer": "ipython3",
   "version": "3.7.6"
  }
 },
 "nbformat": 4,
 "nbformat_minor": 4
}
