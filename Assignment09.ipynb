{
 "cells": [
  {
   "cell_type": "code",
   "execution_count": 22,
   "metadata": {},
   "outputs": [],
   "source": [
    "import matplotlib.pyplot as plt\n",
    "import numpy as np\n",
    "import random\n",
    "\n",
    "\n",
    "file_data   = \"mnist.csv\"\n",
    "handle_file = open(file_data, \"r\")\n",
    "data        = handle_file.readlines()\n",
    "handle_file.close()\n",
    "\n",
    "size_row    = 28    # height of the image\n",
    "size_col    = 28    # width of the image\n",
    "\n",
    "num_image   = len(data)\n",
    "count       = 0     # count for the number of images\n",
    "\n",
    "#\n",
    "# normalize the values of the input data to be [0, 1]\n",
    "#\n",
    "def normalize(data):\n",
    "\n",
    "    data_normalized = (data - min(data)) / (max(data) - min(data))\n",
    "\n",
    "    return(data_normalized)\n",
    "\n",
    "    \n",
    "#\n",
    "# example of distance function between two vectors x and y\n",
    "#\n",
    "\n",
    "def distance(x, y):\n",
    "\n",
    "    d = (x - y) ** 2\n",
    "    s = np.sum(d)\n",
    "    # r = np.sqrt(s)\n",
    "\n",
    "    return(s)\n",
    "\n",
    "def sigmoid(x):\n",
    "    s = 1 + np.exp(-x)\n",
    "    return np.reciprocal(s)\n",
    "\n",
    "def gradientDescent(label, rate, layers, results, a, p, c):\n",
    "    s = a[3][:-1] - label\n",
    "    \n",
    "    for i in reversed(range(len(layers))):\n",
    "        dx = s @ a[i].transpose() / label.shape[1] \n",
    "        if not results[i].sum():\n",
    "            results[i] = results[i] + dx**2 \n",
    "        else:\n",
    "            results[i] = p * results[i] + (1 - p) * dx**2\n",
    "        layers[i] = layers[i] - rate * dx / (np.sqrt(results[i] + c)) \n",
    "        \n",
    "        if i != 0:\n",
    "            s = (layers[i].transpose() @ s * (a[i]*(1-a[i])))[:-1]\n",
    "    \n",
    "def objectiveFunction(h, label):\n",
    "    j = -((label*np.log(h) + (1-label)*np.log(1-h)).sum(axis=0)).mean()\n",
    "    return j\n",
    "\n",
    "def run(data, layers):\n",
    "    h = [np.vstack((data, np.ones((1, data.shape[1]))))]\n",
    "    \n",
    "    for l in layers:\n",
    "        s = sigmoid(l @ h[-1])\n",
    "        h1 = np.vstack((s, np.ones((1, s.shape[1]))))\n",
    "        h.append(h1)\n",
    "        \n",
    "    return h[-1][:-1], h\n",
    "\n",
    "#\n",
    "# make a matrix each column of which represents an images in a vector form\n",
    "#\n",
    "list_image  = np.empty((size_row * size_col, num_image), dtype=float)\n",
    "list_labels  = np.empty(num_image, dtype=int)\n",
    "\n",
    "for line in data:\n",
    "\n",
    "    line_data   = line.split(',')\n",
    "    label       = line_data[0]\n",
    "    im_vector   = np.asfarray(line_data[1:])\n",
    "    im_vector   = normalize(im_vector)\n",
    "\n",
    "    list_labels[count]       = label\n",
    "    list_image[:, count]    = im_vector\n",
    "\n",
    "    count += 1\n",
    "\n",
    "\n",
    "    \n",
    "list_label = np.zeros((10, num_image))\n",
    "\n",
    "for i in range(num_image):\n",
    "    list_label[list_labels[i]][i] = 1\n",
    "\n",
    "#set 3 layers by designated dimensions\n",
    "layers = [np.random.normal(0, 1, (196, 785)),\n",
    "         np.random.normal(0, 1, (49,197)),\n",
    "         np.random.normal(0, 1, (10, 50))]\n",
    "\n",
    "out = [np.zeros((196, 785)),\n",
    "      np.zeros((49,197)),\n",
    "      np.zeros((10,50))]\n",
    "\n",
    "#train size 0~5999\n",
    "train_image = list_image[:, :6000]\n",
    "train_label = list_label[:, :6000]\n",
    "train_accuracy = []\n",
    "\n",
    "#test size ~9999\n",
    "test_image = list_image[:, 6000:]\n",
    "test_label = list_label[:, 6000:]\n",
    "test_accuracy = []\n",
    "\n",
    "learn_rate = 0.001\n",
    "p = 0.999\n",
    "\n",
    "mini = 0.000000001"
   ]
  },
  {
   "cell_type": "code",
   "execution_count": 23,
   "metadata": {},
   "outputs": [],
   "source": [
    "train_h, a = run(train_image, layers)\n",
    "\n",
    "#1st values of training\n",
    "train_acc1 = (train_h.argmax(axis=0) == train_label.argmax(axis=0)).mean()\n",
    "train_e1 = objectiveFunction(train_h, train_label)\n",
    "\n",
    "train_es = []\n",
    "train_acs = []"
   ]
  },
  {
   "cell_type": "code",
   "execution_count": 26,
   "metadata": {},
   "outputs": [],
   "source": [
    "test_h = run(test_image, layers)[0]\n",
    "\n",
    "#initial values of test\n",
    "test_acc1 = (test_h.argmax(axis=0) == test_label.argmax(axis=0)).mean()\n",
    "test_e1 = objectiveFunction(test_h, test_label)\n",
    "\n",
    "test_es = []\n",
    "test_acs = []"
   ]
  },
  {
   "cell_type": "code",
   "execution_count": 27,
   "metadata": {},
   "outputs": [],
   "source": [
    "for i in range(8000):\n",
    "    train_es.append(train_e1)\n",
    "    train_acs.append(train_acc1)\n",
    "    \n",
    "    test_es.append(test_e1)\n",
    "    test_acs.append(test_acc1)\n",
    "    \n",
    "    gradientDescent(train_label, learn_rate, layers, out, a, p, mini)\n",
    "    \n",
    "    train_h, a = run(train_image, layers)\n",
    "    \n",
    "    #this iter values of training\n",
    "    train_acc1 = (train_h.argmax(axis=0) == train_label.argmax(axis=0)).mean()\n",
    "    train_e1 = objectiveFunction(train_h, train_label)\n",
    "    \n",
    "    test_h = run(test_image, layers)[0]\n",
    "    \n",
    "    #this iter values of test\n",
    "    test_acc1 = (test_h.argmax(axis=0) == test_label.argmax(axis=0)).mean()\n",
    "    test_e1 = objectiveFunction(test_h, test_label)\n",
    "    \n",
    "    "
   ]
  },
  {
   "cell_type": "markdown",
   "metadata": {},
   "source": [
    "asdfㅁㄴㅇㄹㅁㅇㄴㄹ"
   ]
  },
  {
   "cell_type": "code",
   "execution_count": 47,
   "metadata": {},
   "outputs": [
    {
     "data": {
      "image/png": "[encoded data removed]",
      "text/plain": [
       "<Figure size 720x576 with 1 Axes>"
      ]
     },
     "metadata": {
      "needs_background": "light"
     },
     "output_type": "display_data"
    }
   ],
   "source": [
    "plt.figure(figsize = (10, 8))\n",
    "plt.plot(train_es, color= 'blue', label = 'train')\n",
    "plt.plot(test_es, color = 'red', label = 'test')\n",
    "plt.show()"
   ]
  },
  {
   "cell_type": "code",
   "execution_count": 48,
   "metadata": {},
   "outputs": [
    {
     "data": {
      "image/png": "[encoded data removed]",
      "text/plain": [
       "<Figure size 720x576 with 1 Axes>"
      ]
     },
     "metadata": {
      "needs_background": "light"
     },
     "output_type": "display_data"
    }
   ],
   "source": [
    "\n",
    "plt.figure(figsize = (10, 8))\n",
    "plt.plot(train_acs, color = 'blue', label = 'train')\n",
    "plt.plot(test_acs, color = 'red', label = 'test')\n",
    "plt.show()"
   ]
  },
  {
   "cell_type": "code",
   "execution_count": 38,
   "metadata": {},
   "outputs": [
    {
     "name": "stdout",
     "output_type": "stream",
     "text": [
      "train accuracy: 99.98333333333333%:\n",
      "test accuracy: 90.825%:\n"
     ]
    }
   ],
   "source": [
    "print(f'train accuracy: {train_acs[-1]*100}%:')\n",
    "print(f'test accuracy: {test_acs[-1]*100}%:')"
   ]
  },
  {
   "cell_type": "code",
   "execution_count": 49,
   "metadata": {},
   "outputs": [
    {
     "data": {
      "image/png": "[encoded data removed]",
      "text/plain": [
       "<Figure size 1080x360 with 10 Axes>"
      ]
     },
     "metadata": {
      "needs_background": "light"
     },
     "output_type": "display_data"
    }
   ],
   "source": [
    "cnum = 0\n",
    "new = run(test_image, layers)[0].transpose()\n",
    "orig = test_label.transpose().argmax(axis = 1)\n",
    "plt.figure(figsize = (15, 5))\n",
    "\n",
    "for idx in range(len(new)):\n",
    "    if (new[idx].argmax()+1).tolist() != orig[idx]:\n",
    "        continue\n",
    "    if cnum == 10:\n",
    "        break\n",
    "    plt.subplot(2, 10, 2*cnum + 1)\n",
    "    image = list_image.transpose()[idx].reshape((28, 28))\n",
    "    \n",
    "    plt.imshow(image,cmap = 'Greys')\n",
    "    plt.xlabel(\"label: {}\" .format(orig[idx]))\n",
    "    cnum += 1\n",
    "plt.show()"
   ]
  },
  {
   "cell_type": "code",
   "execution_count": 44,
   "metadata": {},
   "outputs": [
    {
     "data": {
      "image/png": "[encoded data removed]",
      "text/plain": [
       "<Figure size 432x288 with 10 Axes>"
      ]
     },
     "metadata": {
      "needs_background": "light"
     },
     "output_type": "display_data"
    }
   ],
   "source": [
    "cnum = 0\n",
    "new = run(test_image, layers)[0].transpose()\n",
    "orig = list_labels[6000:]\n",
    "plt.figure(1)\n",
    "\n",
    "for idx in range(len(new)):\n",
    "    if new[idx].argmax().tolist() == orig[idx]:\n",
    "        continue\n",
    "    if cnum == 10:\n",
    "        break\n",
    "    plt.subplot(2, 10, 2*cnum + 1)\n",
    "    image = list_image.transpose()[idx].reshape((28, 28))\n",
    "    \n",
    "    plt.imshow(image,cmap = 'Greys')\n",
    "    plt.xlabel(\"label: {}\" .format(orig[idx]))\n",
    "    cnum += 1\n",
    "plt.show()\n"
   ]
  },
  {
   "cell_type": "code",
   "execution_count": null,
   "metadata": {},
   "outputs": [],
   "source": []
  }
 ],
 "metadata": {
  "kernelspec": {
   "display_name": "Python 3",
   "language": "python",
   "name": "python3"
  },
  "language_info": {
   "codemirror_mode": {
    "name": "ipython",
    "version": 3
   },
   "file_extension": ".py",
   "mimetype": "text/x-python",
   "name": "python",
   "nbconvert_exporter": "python",
   "pygments_lexer": "ipython3",
   "version": "3.7.6"
  }
 },
 "nbformat": 4,
 "nbformat_minor": 4
}
