{
 "cells": [
  {
   "cell_type": "code",
   "execution_count": null,
   "metadata": {},
   "outputs": [],
   "source": [
    "import numpy as np\n",
    "import matplotlib.pyplot as plt\n",
    "\n",
    "def sigmoid(x):\n",
    "    s = 1 / (1 + np.exp(-x))\n",
    "    \n",
    "    if s < 0.0000001:\n",
    "        s = 0.0000001\n",
    "    elif 1 - s < 0.0000001:\n",
    "        s = 1 - 0.0000001\n",
    "    \n",
    "    return s\n",
    "\n",
    "def hx(x, y, theta):\n",
    "    sum = 0\n",
    "    idx = 0\n",
    "    for i in range(0, 10):\n",
    "        for j in range(0, 10):\n",
    "            sum = sum + (x**i)*(y**j)*theta[idx]\n",
    "            idx = idx + 1\n",
    "    return sum\n",
    "\n",
    "def gradientDescent(theta, z, label, data, a, lamb):\n",
    "    for i in range(len(label)):\n",
    "        for j in range(len(data)):\n",
    "            theta[j] = (1 - a * lamb) * theta[j] - a * (sigmoid(z[i]) - label[i]) * d[j][i]\n",
    "    return theta\n",
    "\n",
    "def gFunction(theta, data):\n",
    "    z = 0\n",
    "    for i in range(len(data)):\n",
    "        z = z + theta[i] * data[i]\n",
    "\n",
    "    return z\n",
    "\n",
    "\n",
    "def jFunction(label, z, r):\n",
    "    sum = 0\n",
    "    for i in range(len(label)):\n",
    "        s = sigmoid(z[i])\n",
    "        sum = sum + (-1)*(label[i])*(np.log(s)) + (-1)*(1 - label[i])*(np.log(1-s))\n",
    "\n",
    "    return sum + r\n",
    "    \n",
    "def regular(lamb, theta):\n",
    "    sum = 0\n",
    "    for i in theta:\n",
    "        sum = sum + i\n",
    "    return (sum * lamb)/2\n",
    "\n",
    "def accuracy(z, label):\n",
    "    count = 0\n",
    "    for i in range(len(z)):\n",
    "        if(sigmoid(z[i]) > 1/2 and label[i] == 1) or (sigmoid(z[i]) <= 1/2 and label[i] == 0):\n",
    "            count = count + 1\n",
    "    \n",
    "    return count\n",
    "\n",
    "data    = np.genfromtxt(\"data-nonlinear.txt\", delimiter=',')\n",
    "\n",
    "pointX = data[:, 0]\n",
    "pointY = data[:, 1]\n",
    "label = data[:, 2]\n",
    "\n",
    "pointX0 = pointX[label == 0]\n",
    "pointY0 = pointY[label == 0]\n",
    "pointX1 = pointX[label == 1]\n",
    "pointY1 = pointY[label == 1]\n",
    "\n",
    "x = np.array(pointX)\n",
    "y = np.array(pointY)\n",
    "label = np.array(data[:, 2])\n",
    "\n",
    "\n",
    "m = len(x)\n",
    "ones = []\n",
    "for i in range(m):\n",
    "    ones.append(1)\n",
    "ones = np.array(ones)\n",
    "\n",
    "a = 0.001\n",
    "of_lambda = 0.0001\n",
    "jr_lambda = 0.01\n",
    "uf_lambda = 0.1\n",
    "\n",
    "#print(m)\n",
    "\n",
    "of_theta = []\n",
    "jr_theta = []\n",
    "uf_theta = []\n",
    "\n",
    "for i in range(100):\n",
    "    of_theta.append(1)\n",
    "    jr_theta.append(2)\n",
    "    uf_theta.append(3)\n",
    "\n",
    "\n",
    "of_cost = []\n",
    "jr_cost = []\n",
    "uf_cost = []\n",
    "\n",
    "of_acc = []\n",
    "jr_acc = []\n",
    "uf_acc = []\n",
    "\n",
    "temp = []\n",
    "for i in range(0, 10):\n",
    "    for j in range(0, 10):\n",
    "        temp.append((x**i) * (y**j))\n",
    "d = np.array(temp)\n",
    "\n",
    "\n",
    "    \n",
    "for i in range(3000):\n",
    "    \n",
    "    #overfit\n",
    "    of_r = regular(of_lambda, of_theta)\n",
    "    of_z = gFunction(of_theta, d)\n",
    "    of_j = jFunction(label, of_z, of_r)\n",
    "    of_cost.append(of_j)\n",
    "    temp_of_acc = accuracy(of_z, label) / len(label) * 100\n",
    "    of_acc.append(temp_of_acc)\n",
    "    of_theta = gradientDescent(of_theta, of_z, label, d, a, of_lambda)\n",
    "    \n",
    "    \n",
    "    #just right\n",
    "    jr_r = regular(jr_lambda, jr_theta)\n",
    "    jr_z = gFunction(jr_theta, d)\n",
    "    jr_j = jFunction(label, jr_z, jr_r)\n",
    "    jr_cost.append(jr_j)\n",
    "    temp_jr_acc = accuracy(jr_z, label) / len(label) * 100\n",
    "    jr_acc.append(temp_jr_acc)\n",
    "    jr_theta = gradientDescent(jr_theta, jr_z, label, d, a, jr_lambda)\n",
    "    \n",
    "    #underfit\n",
    "    uf_r = regular(uf_lambda, uf_theta)\n",
    "    uf_z = gFunction(uf_theta, d)\n",
    "    uf_j = jFunction(label, uf_z, uf_r)\n",
    "    uf_cost.append(uf_j)\n",
    "    temp_uf_acc = accuracy(uf_z, label) / len(label) * 100\n",
    "    uf_acc.append(temp_uf_acc)\n",
    "    uf_theta = gradientDescent(uf_theta, uf_z, label, d, a, uf_lambda)"
   ]
  },
  {
   "cell_type": "code",
   "execution_count": 28,
   "metadata": {},
   "outputs": [],
   "source": [
    "_x = np.linspace(-1, 1, 1000)\n",
    "_y = np.linspace(-1, 1, 1000)\n",
    "xmesh, ymesh = np.meshgrid(_x, _y)\n",
    "    \n",
    "of_h = hx(xmesh, ymesh, of_theta)\n",
    "jr_h = hx(xmesh, ymesh, jr_theta)\n",
    "uf_h = hx(xmesh, ymesh, uf_theta)"
   ]
  },
  {
   "cell_type": "code",
   "execution_count": 29,
   "metadata": {},
   "outputs": [
    {
     "data": {
      "image/png": "[encoded data removed]",
      "text/plain": [
       "<Figure size 432x288 with 1 Axes>"
      ]
     },
     "metadata": {
      "needs_background": "light"
     },
     "output_type": "display_data"
    }
   ],
   "source": [
    "plt.figure()\n",
    "plt.scatter(pointX0, pointY0, c='b')\n",
    "plt.scatter(pointX1, pointY1, c='r')\n",
    "plt.tight_layout()\n",
    "plt.gca().set_aspect('equal', adjustable='box')\n",
    "plt.show()"
   ]
  },
  {
   "cell_type": "code",
   "execution_count": 30,
   "metadata": {},
   "outputs": [
    {
     "data": {
      "image/png": "[encoded data removed]",
      "text/plain": [
       "<Figure size 432x288 with 1 Axes>"
      ]
     },
     "metadata": {
      "needs_background": "light"
     },
     "output_type": "display_data"
    }
   ],
   "source": [
    "plt.plot(of_cost, color = 'r')\n",
    "plt.plot(jr_cost, color = 'g')\n",
    "plt.plot(uf_cost, color = 'b')\n",
    "plt.legend(['overfit', 'just right', 'underfit'])\n",
    "plt.show()"
   ]
  },
  {
   "cell_type": "code",
   "execution_count": 33,
   "metadata": {},
   "outputs": [
    {
     "data": {
      "image/png": "[encoded data removed]",
      "text/plain": [
       "<Figure size 432x288 with 1 Axes>"
      ]
     },
     "metadata": {
      "needs_background": "light"
     },
     "output_type": "display_data"
    }
   ],
   "source": [
    "plt.plot(of_cost, color = 'r')\n",
    "plt.plot(jr_cost, color = 'g')\n",
    "plt.plot(uf_cost, color = 'b')\n",
    "plt.legend(['overfit', 'just right', 'underfit'])\n",
    "plt.text(5000, 400, r'$\\lambda_1$ : ' + str(of_lambda), c = 'r')\n",
    "plt.text(5000, 300, r'$\\lambda_2$ : ' + str(jr_lambda), c = 'g')\n",
    "plt.text(5000, 200, r'$\\lambda_3$ : ' + str(uf_lambda), c = 'b')\n",
    "\n",
    "plt.show()"
   ]
  },
  {
   "cell_type": "code",
   "execution_count": 39,
   "metadata": {},
   "outputs": [
    {
     "data": {
      "image/png": "[encoded data removed]",
      "text/plain": [
       "<Figure size 432x288 with 1 Axes>"
      ]
     },
     "metadata": {
      "needs_background": "light"
     },
     "output_type": "display_data"
    }
   ],
   "source": [
    "plt.plot(of_acc, color = 'red')\n",
    "plt.plot(jr_acc, color = 'green')\n",
    "plt.plot(uf_acc, color = 'blue')\n",
    "plt.legend(['overfit', 'just right', 'underfit'])\n",
    "plt.show()"
   ]
  },
  {
   "cell_type": "code",
   "execution_count": null,
   "metadata": {},
   "outputs": [],
   "source": [
    "print(\"\\033[31m{0}% - overfit \\033[00m\".format(of_acc[len(of_acc)-1]))\n",
    "print(\"\\033[31m{0}% - overfit \\033[00m\".format(jr_acc[len(jr_acc)-1]))\n",
    "print(\"\\033[31m{0}% - overfit \\033[00m\".format(uf_acc[len(uf_acc)-1]))\n"
   ]
  },
  {
   "cell_type": "code",
   "execution_count": null,
   "metadata": {},
   "outputs": [],
   "source": [
    "plt.figure()\n",
    "plt.scatter(pointX0, pointY0, c = 'b')\n",
    "plt.scatter(pointX1, pointY1, c = 'r')\n",
    "plt.tight_layout()\n",
    "\n",
    "l1 = plt_contour(xmesh, ymesh, )"
   ]
  }
 ],
 "metadata": {
  "kernelspec": {
   "display_name": "Python 3",
   "language": "python",
   "name": "python3"
  },
  "language_info": {
   "codemirror_mode": {
    "name": "ipython",
    "version": 3
   },
   "file_extension": ".py",
   "mimetype": "text/x-python",
   "name": "python",
   "nbconvert_exporter": "python",
   "pygments_lexer": "ipython3",
   "version": "3.7.6"
  }
 },
 "nbformat": 4,
 "nbformat_minor": 4
}
